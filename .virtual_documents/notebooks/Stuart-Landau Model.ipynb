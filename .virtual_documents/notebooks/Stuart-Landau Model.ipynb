


import itertools
from functools import partial

import jax
import jax.numpy as np
import matplotlib.pyplot as plt
import numpy
import xarray as xr
from frites.core import copnorm_nd, gccmi_nd_ccc, gcmi_1d_cc, gcmi_nd_cc
from frites.utils import parallel_func
from hoi.core import get_mi
from mne.time_frequency.tfr import tfr_array_morlet
from tqdm import tqdm


jax.config.update("jax_enable_x64", True)
jax.config.update("jax_platform_name", "gpu")





def randn(mu: float = 0, sig: float = 0, size: tuple = (1,), seed: int = 0):

    return jax.random.normal(jax.random.key(seed), shape=size)


@jax.jit
def _ode(Z: np.complex128, a: float, w: float, Iext: float):
    return Z * (a + 1j * w - np.abs(Z * Z)) + Iext


def simulate(
    f: float,
    a: float,
    beta: float,
    T: np.ndarray = np.arange(-0.5, 1, 1e-4),
    Iext: np.ndarray = None,
    seed: int = 0,
    decim: int = 1,
    mode: str = "amp",
):

    assert mode in ["amp", "phase", "both"]

    gain = 0
    phi = 0
    offset = 1

    if mode == "amp":
        gain = 1
        offset = 0
    elif mode == "phase":
        gain = 1
        phi = np.pi / 2
        offset = 0

    # Model patameters
    w_0 = 2 * np.pi * f

    # Simulation parameters
    dt = np.diff(T)[0]

    if Iext is None:
        Iext = np.zeros_like(T)

    Z = dt + dt * 1j

    Npoints = len(T)

    eta_1 = randn(seed=seed, size=(Npoints,))
    eta_2 = randn(seed=seed + 1000, size=(Npoints,))
    eta = np.sqrt(dt) * beta * (eta_1 + 1j * eta_2)

    @jax.jit
    def _loop(carry, t):
        Z, eta, Iext = carry

        exp_phi = gain * np.exp(1j * (np.angle(Z) + phi)) + offset

        Z = Z + dt * _ode(Z, a, w_0, Iext[t] * exp_phi) + eta[t]

        carry = Z, eta, Iext

        return carry, Z

    _, Z = jax.lax.scan(_loop, (Z, eta, Iext), np.arange(Npoints))

    return Z[..., ::decim]


def simulate_2nodes(
    g: float,
    f: float,
    a: np.ndarray,
    beta: float,
    T: np.ndarray = np.arange(-0.5, 1, 1e-4),
    Iext: np.ndarray = None,
    seed: int = 0,
    decim: int = 1,
    mode: str = "amp",
):

    assert mode in ["amp", "phase", "both"]

    gain = 0
    phi = 0
    offset = 1

    a = a.reshape(2, 1)

    if mode == "amp":
        gain = 1
        offset = 0
    elif mode == "phase":
        gain = 1
        phi = np.pi / 2
        offset = 0

    # Model patameters
    w_0 = 2 * np.pi * f

    # Simulation parameters
    dt = np.diff(T)[0]

    Npoints = len(T)

    if Iext is None:
        Iext = np.zeros((2, Npoints))

    Z = dt * np.ones((2, 1)) + dt * 1j * np.ones((2, 1))

    eta_1 = randn(seed=seed, size=(2, Npoints))
    eta_2 = randn(seed=seed + 1000, size=(2, Npoints))
    eta = np.sqrt(dt) * beta * (eta_1 + 1j * eta_2)

    @jax.jit
    def _loop(carry, t):
        Z, eta, Iext = carry

        exp_phi = gain * np.exp(1j * (np.angle(Z) + phi)) + offset

        I = np.array([[0], [g * (Z[0] - Z[1])[0]]])

        Z = Z + dt * _ode(Z, a, w_0, Iext[:, [t]] * exp_phi + I) + eta[:, [t]]

        carry = Z, eta, Iext

        return carry, Z

    _, Z = jax.lax.scan(_loop, (Z, eta, Iext), np.arange(Npoints - 1))

    return Z[::decim]


def simulate_2nodes_delayed(
    g: float,
    d: int,
    f: float,
    a: np.ndarray,
    beta: float,
    T: np.ndarray = np.arange(-0.5, 1, 1e-4),
    Iext: np.ndarray = None,
    seed: int = 0,
    decim: int = 1,
    mode: str = "amp",
):

    assert mode in ["amp", "phase", "both"]

    gain = 0
    phi = 0
    offset = 1

    a = a.reshape(2, 1)

    if mode == "amp":
        gain = 1
        offset = 0
    elif mode == "phase":
        gain = 1
        phi = np.pi / 2
        offset = 0

    # Model patameters
    w_0 = 2 * np.pi * f

    # Simulation parameters
    dt = np.diff(T)[0]

    Npoints = len(T)

    if Iext is None:
        Iext = np.zeros((2, Npoints))

    Z = dt * np.ones((2, 1)) + dt * 1j * np.ones((2, 1))

    eta_1 = randn(seed=seed, size=(2, Npoints))
    eta_2 = randn(seed=seed + 1000, size=(2, Npoints))
    eta = np.sqrt(dt) * beta * (eta_1 + 1j * eta_2)

    @jax.jit
    def _loop(carry, t):
        Z, eta, Iext = carry

        exp_phi = gain * np.exp(1j * (np.angle(Z) + phi)) + offset

        I = np.array([[0], [g * (Z[0] - Z[1])[0]]])

        Z = Z + dt * _ode(Z, a, w_0, Iext[:, [t]] * exp_phi + I) + eta[:, [t]]

        carry = Z, eta, Iext

        return carry, Z

    _, Z = jax.lax.scan(_loop, (Z, eta, Iext), np.arange(Npoints - 1))

    return Z[::decim]





a_vec = np.linspace(-5, 5, 100)


plt.figure(figsize=(7, 4))
for a in a_vec:

    if a <= 0:
        plt.scatter(a, 0, c="k")
    else:
        fp = np.sqrt(a)
        plt.scatter(a, -fp, c="k")
        plt.scatter(a, fp, c="k")
plt.xlabel("a")
plt.ylabel(r"$\pm \sqrt{a}$");





a_vec = np.array([-5, 0, 5])


Z = [simulate(40, a, 0, seed=0) for a in a_vec]


fig, axs = plt.subplot_mosaic([[0, 2, 4], [0, 2, 4], [1, 3, 5]], figsize=(12, 5))

pos = 0
for i, Z_ in enumerate(Z):

    fp = np.sqrt(a_vec[i] + 1j * 0)
    if a_vec[i] < 0:
        fp = 0 + 1j * 0

    fixed_points = np.array([[0.0, 0.0], [fp.real, fp.imag], [-fp.real, -fp.imag]])

    x = np.linspace(-3, 3, 20)
    y = np.linspace(-3, 3, 20)
    X, Y = np.meshgrid(x, y)

    dZdt = _ode(X + 1j * Y, a_vec[i], 40, 0)

    Xdot = dZdt.real
    Ydot = dZdt.imag

    plt.sca(axs[pos])
    axs[pos].streamplot(
        numpy.array(X), numpy.array(Y), numpy.array(Xdot), numpy.array(Ydot)
    )
    axs[pos].scatter(*fixed_points.T, color="r")
    plt.title(f"a = {a_vec[i]}")
    plt.xlabel("Real(dZ/dt)")
    plt.ylabel("Imag(dZ/dt)")

    pos = pos + 1
    plt.sca(axs[pos])
    axs[pos].plot(Z_.real)
    axs[pos].spines["top"].set_visible(False)
    axs[pos].spines["right"].set_visible(False)
    plt.xlabel("Time [a.u]")
    plt.ylabel("Real(Z)")
    pos = pos + 1

plt.tight_layout()





Z_noise = [simulate(40, a, 1e-4, seed=0) for a in a_vec]


fig, axs = plt.subplot_mosaic([[0, 2, 4], [0, 2, 4], [1, 3, 5]], figsize=(12, 5))

pos = 0
for i, Z_ in enumerate(Z_noise):

    fp = np.sqrt(a_vec[i] + 1j * 0)
    if a_vec[i] < 0:
        fp = 0 + 1j * 0

    fixed_points = np.array([[0.0, 0.0], [fp.real, fp.imag], [-fp.real, -fp.imag]])

    x = np.linspace(-3, 3, 20)
    y = np.linspace(-3, 3, 20)
    X, Y = np.meshgrid(x, y)

    dZdt = _ode(X + 1j * Y, a_vec[i], 40, 0)

    Xdot = dZdt.real
    Ydot = dZdt.imag

    plt.sca(axs[pos])
    axs[pos].streamplot(
        numpy.array(X), numpy.array(Y), numpy.array(Xdot), numpy.array(Ydot)
    )
    axs[pos].scatter(*fixed_points.T, color="r")
    plt.title(f"a = {a_vec[i]}")
    plt.xlabel("Imag(Z)")
    plt.ylabel("Real(Z)")

    pos = pos + 1
    plt.sca(axs[pos])
    axs[pos].plot(Z_.real)
    axs[pos].spines["top"].set_visible(False)
    axs[pos].spines["right"].set_visible(False)
    plt.xlabel("Time [a.u]")
    plt.ylabel("Real(Z)")
    pos = pos + 1

plt.tight_layout()





fsamp = 1e-4
T = np.arange(-5, 5, fsamp)
Iext = np.zeros_like(T)
Iext = Iext.at[(T >= 0) & (T < 0.1)].set(50)

Z_amp = simulate(
    40,
    -5,
    0.1,
    T,
    Iext,
    0,
    1,
    "amp",
)


Z_phi = simulate(
    40,
    -5,
    0.1,
    T,
    Iext,
    0,
    1,
    "phase",
)

Z_both = simulate(
    40,
    -5,
    0.1,
    T,
    Iext,
    0,
    1,
    "both",
)


T_ = T[(T >= -0.2) & (T < 0.5)]
Z_amp = Z_amp[(T >= -0.2) & (T < 0.5)]
Z_phi = Z_phi[(T >= -0.2) & (T < 0.5)]
Z_both = Z_both[(T >= -0.2) & (T < 0.5)]


onset = np.argmin(np.abs(T_))


plt.figure(figsize=(12, 8))
plt.subplot(231)
plt.plot(T_, Z_amp.real)
plt.xlabel("Time [a.u]")
plt.ylabel("Real(Z)")
plt.title("Stimulate amplitude")
plt.subplot(232)
plt.plot(T_, Z_phi.real)
plt.xlabel("Time [a.u]")
plt.ylabel("Real(Z)")
plt.title("Stimulate phase")
plt.subplot(233)
plt.plot(T_, Z_both.real)
plt.xlabel("Time [a.u]")
plt.ylabel("Real(Z)")
plt.title("Stimulate amplitude + phase")
plt.subplot(234)
plt.plot(Z_amp.real, Z_amp.imag)
plt.scatter(Z_phi.real[onset], Z_phi.imag[onset], c="r")
plt.xlabel("Imag(Z)")
plt.ylabel("Real(Z)")
plt.subplot(235)
plt.plot(Z_phi.real, Z_phi.imag)
plt.scatter(Z_phi.real[onset], Z_phi.imag[onset], c="r")
plt.xlabel("Imag(Z)")
plt.ylabel("Real(Z)")
plt.subplot(236)
plt.plot(Z_both.real, Z_both.imag)
plt.scatter(Z_both.real[onset], Z_both.imag[onset], c="r")
plt.xlabel("Imag(Z)")
plt.ylabel("Real(Z)")
plt.tight_layout()





simulate_jax = jax.vmap(simulate, in_axes=(None, None, None, None, 0, 0, None, None))


a_vec = np.linspace(-15, 5, 60)
beta_vec = np.geomspace(1e-4, 1e-3, 60)


T = np.arange(-0.5, 1, 1e-4)
I = np.zeros((100, T.shape[0]))
for i in range(100):
    I = I.at[i, (T >= 0) * (T <= 0.2)].set(1e-4 * i)


seeds = np.arange(100, dtype=int)


out1 = simulate_jax(40, -5, 1e-3, T, I, seeds, 1, "amp")
out2 = simulate_jax(40, 0, 1e-3, T, I, seeds, 1, "amp")
out3 = simulate_jax(40, 5, 1e-3, T, I, seeds, 1, "amp")


plt.plot(T, gcmi_nd_cc(numpy.asarray(out1 * np.conj(out1)), numpy.asarray(I), traxis=0))
plt.plot(T, gcmi_nd_cc(numpy.asarray(out2 * np.conj(out2)), numpy.asarray(I), traxis=0))
plt.plot(T, gcmi_nd_cc(numpy.asarray(out3 * np.conj(out3)), numpy.asarray(I), traxis=0))

plt.legend([r"$a = -5$", r"$a = 0$", r"$a = 5$"])

plt.ylabel("MI [bits]")
plt.xlabel("time [s]")


grid = np.array(np.meshgrid(a_vec, beta_vec)).T.reshape(-1, 2)
grid.shape


simulate_jax_2 = jax.vmap(
    simulate_jax, in_axes=(None, 0, 0, None, None, None, None, None)
)


blocks = np.array_split(np.arange(grid.shape[0]), 600)


grid.shape


out = []
for block in tqdm(blocks):
    out += [simulate_jax_2(40, grid[block, 0], grid[block, 1], T, I, seeds, 15, "amp")]


out = numpy.concatenate(out, axis=0)


MIs = []
for _out in tqdm(out):
    try:
        MIs += [
            gcmi_nd_cc(
                numpy.asarray(_out * np.conj(_out)),
                numpy.asarray(I[..., ::15]),
                traxis=0,
            ).max()
        ]
    except:
        MIs += [0]


MIs_xr = xr.DataArray(
    numpy.stack(MIs).reshape(a_vec.shape[0], beta_vec.shape[0]),
    dims=("a", "beta"),
    coords=(a_vec, beta_vec),
    name="MI [bits]",
)


plt.figure(figsize=(13, 5))
plt.subplot(121)
MIs_xr.T.plot.imshow(cmap="turbo")
plt.xlabel("a", fontsize=12)
plt.ylabel("beta", fontsize=12)

plt.subplot(122)
(MIs_xr * numpy.diff(beta_vec)[0]).sum("beta").plot()
plt.xlabel("a", fontsize=12)
plt.ylabel("MI [bits]", fontsize=12)

plt.tight_layout()





import sys

sys.path.insert(1, "/home/vinicius/storage1/projects/StuartLandauWBM/")


from src.models import simulate


Nareas = 2  # Number of areas
fsamp = 1 / 1e-4
time = np.arange(-0.5, 1, 1 / fsamp)
beta = 1e-3
Npoints = len(time)

f = 40  # np.linspace(20, 60, Nareas)[::-1]  # Node natural frequency in Hz

g = 5
C = np.array([[0, 0], [1, 0]])


T = np.linspace(-0.5, 1, Npoints)
I = np.zeros((100, 2, T.shape[0]))
for i in range(100):
    I = I.at[i, 0, (T >= 0) * (T <= 0.2)].set(1e-3 * i)


simulate_jax = jax.vmap(
    simulate_2nodes, in_axes=(None, None, None, None, None, 0, 0, None, None)
)


seeds = numpy.random.randint(0, 20000, 100, dtype=int)

Z = (
    simulate_jax(g, f, np.array([-5, 0]), beta, T, I, seeds, 15, "amp")
    .squeeze()
    .transpose(0, 2, 1)
)


plt.figure(figsize=(15, 4))
plt.subplot(121)
plt.plot(T[::15], Z[0, 0].real)
plt.title("a = -5")
plt.ylabel("Real(Z)")
plt.xlabel("time [s]")
plt.subplot(122)
plt.plot(T[::15], Z[0, 1].real)
plt.title("a = 0")
plt.ylabel("Real(Z)")
plt.xlabel("time [s]")


plt.figure(figsize=(15, 4))
plt.subplot(121)
plt.plot(T[::15], Z[-1, 0].real)
plt.title("a = -5")
plt.ylabel("Real(Z)")
plt.xlabel("time [s]")
plt.subplot(122)
plt.plot(T[::15], Z[-1, 1].real)
plt.title("a = 0")
plt.ylabel("Real(Z)")
plt.xlabel("time [s]")


simulate_jax_2 = jax.vmap(
    simulate_jax,
    in_axes=(0, None, None, None, None, None, None, None, None),
)


g_vec = np.linspace(0, 10, 60)


seeds = numpy.random.randint(0, 20000, 100, dtype=int)

Z_homogeneous = (
    numpy.asarray(
        simulate_jax_2(g_vec, f, np.array([-5, -5]), beta, T, I, seeds, 15, "amp")
    )
    .squeeze()
    .transpose(0, 1, 3, 2)
)

seeds = numpy.random.randint(0, 20000, 100, dtype=int)

Z_heterogeneous = (
    numpy.asarray(
        simulate_jax_2(g_vec, f, np.array([-5, 0]), beta, T, I, seeds, 15, "amp")
    )
    .squeeze()
    .transpose(0, 1, 3, 2)
)


mi_homogeneous = []

for i in tqdm(range(60)):
    mi_homogeneous += [
        gccmi_nd_ccc(
            x=numpy.abs(Z_homogeneous[i, :, 0]),
            y=numpy.abs(Z_homogeneous[i, :, 1]),
            z=numpy.array(I[:, 0, ::15]),
            traxis=0,
        )
    ]

mi_homogeneous = np.stack(mi_homogeneous)


mi_heterogeneous = []

for i in tqdm(range(60)):
    mi_heterogeneous += [
        gccmi_nd_ccc(
            x=numpy.abs(Z_heterogeneous[i, :, 0]),
            y=numpy.abs(Z_heterogeneous[i, :, 1]),
            z=numpy.array(I[:, 0, ::15]),
            traxis=0,
        )
    ]

mi_heterogeneous = np.stack(mi_heterogeneous)


plt.figure(figsize=(12, 4))
plt.subplot((131))
plt.plot(T[::15], mi_homogeneous[0])
plt.plot(T[::15], mi_heterogeneous[0])
plt.ylabel("MI [bits]")
plt.xlabel("time [s]")
plt.title(f"g={g_vec[0]:.2f}")
plt.ylim(-0.1, 4)
plt.subplot((132))
plt.plot(T[::15], mi_homogeneous[16])
plt.plot(T[::15], mi_heterogeneous[16])
plt.xlabel("time [s]")
plt.title(f"g={g_vec[16]:.2f}")
plt.ylim(-0.1, 4)
plt.subplot((133))
plt.plot(T[::15], mi_homogeneous[-1])
plt.plot(T[::15], mi_heterogeneous[-1])
plt.xlabel("time [s]")
plt.title(f"g={g_vec[-1]:.2f}")
plt.ylim(-0.1, 4)


plt.figure(figsize=(12, 4))

plt.plot(g_vec, mi_homogeneous.mean(1), "o")
plt.plot(g_vec, mi_heterogeneous.mean(1), "o")
plt.ylabel(r"$\langle MI \rangle$ [bits]")
plt.xlabel("g")


g_vec = np.linspace(0, 10, 50)
a_vec = np.linspace(-10, 10, 50)

grid = np.array(np.meshgrid(np.array([-5]), a_vec, g_vec)).T.reshape(-1, 3)
grid.shape


blocks = np.array_split(np.arange(grid.shape[0]), 100)
blocks[0].shape


simulate_jax_3 = jax.vmap(
    simulate_jax,
    in_axes=(0, None, 0, None, None, None, None, None, None),
)


out = []
for block in tqdm(blocks):
    out += [
        numpy.array(
            simulate_jax_3(
                grid[block, 2], f, grid[block, :2], 1e-3, T, I, seeds, 15, "amp"
            )
        )
    ]

result = numpy.concatenate(out).squeeze()
result = result.transpose(0, 1, 3, 2)

mi_low_noise = []

for i in tqdm(range(grid.shape[0])):
    try:
        mi_low_noise += [
            gccmi_nd_ccc(
                x=numpy.abs(result[i, :, 0]),
                y=numpy.abs(result[i, :, 1]),
                z=numpy.array(I[:, 0, ::15]),
                traxis=0,
            )
        ]
    except:
        mi_low_noise += [numpy.zeros_like(T[::15])]

mi_low_noise = np.stack(mi_low_noise)


out = []
for block in tqdm(blocks):
    out += [
        numpy.array(
            simulate_jax_3(
                grid[block, 2], f, grid[block, :2], 1e-2, T, I, seeds, 15, "amp"
            )
        )
    ]

result = numpy.concatenate(out).squeeze()
result = result.transpose(0, 1, 3, 2)

mi_high_noise = []

for i in tqdm(range(grid.shape[0])):
    try:
        mi_high_noise += [
            gccmi_nd_ccc(
                x=numpy.abs(result[i, :, 0]),
                y=numpy.abs(result[i, :, 1]),
                z=numpy.array(I[:, 0, ::15]),
                traxis=0,
            )
        ]
    except:
        mi_high_noise += [numpy.zeros_like(T[::15])]

mi_high_noise = np.stack(mi_high_noise)


mi_low_noise_ = xr.DataArray(
    mi_low_noise.reshape(a_vec.shape[0], g_vec.shape[0], -1).mean(-1),
    dims=(r"$\Delta a$", "g"),
    coords=(-a_vec / 5, g_vec),
    name="MI [bits]",
)

mi_high_noise_ = xr.DataArray(
    mi_high_noise.reshape(a_vec.shape[0], g_vec.shape[0], -1).mean(-1),
    dims=(r"$\Delta a$", "g"),
    coords=(-a_vec / 5, g_vec),
    name="MI [bits]",
)


plt.figure(figsize=(15, 5))
plt.subplot(121)
mi_low_noise_.plot.imshow(origin="lower", vmin=0, cmap="turbo")
plt.title(r"$\beta$ = 1e-3")
plt.subplot(122)
mi_high_noise_.plot.imshow(origin="lower", vmin=0, cmap="turbo")
plt.title(r"$\beta$ = 1e-2")





fsamp = 1 / 1e-4
T = np.arange(-3, 6, 1 / fsamp)
beta = 1e-3
Npoints = len(T)

f = 40

I = np.zeros((100, 2, T.shape[0]))

for i in range(100):
    I = I.at[i, 0, (T >= 0) * (T <= 1)].set(1e-3 * i)


seeds = numpy.random.randint(0, 50000, len(I))

Z = numpy.array(
    simulate_jax(4, f, np.array([-5, 0]), beta, T, I, seeds, 15, "amp")
    .squeeze()
    .transpose(0, 2, 1)
)


A1, A2 = np.abs(Z[:, 0]), np.abs(Z[:, 1])

dphi = Z[:, 0] * np.conj(Z[:, 1]) / (A1 * A2)

A1 = numpy.asarray(A1)
A2 = numpy.asarray(A2)
dphi = numpy.asarray(dphi)


plt.figure(figsize=(12, 5))
plt.subplot(121)
plt.plot(T[::15], A1[-1])
plt.plot(T[::15], A2[-1])
plt.subplot(122)
plt.plot(T[::15], np.real(dphi[-1]))


plt.plot(
    T[::15], gcmi_nd_cc(numpy.real(dphi), numpy.array(I.max(1)[..., ::15]), traxis=0)
)


plt.plot(T[::15], gccmi_nd_ccc(A1, A2, numpy.array(I.max(1)[..., ::15]), traxis=0))
plt.plot(T[::15], gcmi_nd_cc(A1 * A2, numpy.array(I.max(1)[..., ::15]), traxis=0))
plt.plot(
    T[::15],
    gccmi_nd_ccc(
        numpy.real(dphi), numpy.imag(dphi), numpy.array(I.max(1)[..., ::15]), traxis=0
    ),
)


stim = numpy.array(I.max(1)[..., ::15])


def _syn(R1, R2, stim):

    MI_13 = gcmi_nd_cc(R1, stim, traxis=0)
    MI_23 = gcmi_nd_cc(R2, stim, traxis=0)
    MI_123 = gccmi_nd_ccc(R1, R2, stim, traxis=0)
    Red = numpy.minimum(MI_13, MI_23)
    return MI_123 - MI_13 - MI_23 + Red


plt.plot(T[::15], Red)
plt.plot(T[::15], Syn)


I_S_R1 = gcmi_nd_cc(A1, stim, traxis=0)
I_S_R2 = gcmi_nd_cc(A2, stim, traxis=0)
I_S_R3 = gcmi_nd_cc(numpy.real(dphi), stim, traxis=0)
I_S_R1_R2 = gccmi_nd_ccc(A1, A2, stim, traxis=0)


U_R1 = (
    I_S_R1
    - np.minimum(I_S_R1, _syn(A2, numpy.real(dphi), stim))
    #- np.minimum(I_S_R1, I_S_R3)
    #- np.minimum(I_S_R2, I_S_R3)
    #- np.stack((I_S_R1, I_S_R2, I_S_R3)).min(0)
)

U_R2 = (
    I_S_R3
    - np.minimum(I_S_R2, _syn(A1, numpy.real(dphi), stim))
    #- np.minimum(I_S_R1, I_S_R3)
    #- np.minimum(I_S_R2, I_S_R3)
    #- np.stack((I_S_R1, I_S_R2, I_S_R3)).min(0)
)

U_R3 = (
    I_S_R3
    - np.minimum(I_S_R3, _syn(A1, A2, stim))
    #- np.minimum(I_S_R1, I_S_R3)
    #- np.minimum(I_S_R2, I_S_R3)
    #- np.stack((I_S_R1, I_S_R2, I_S_R3)).min(0)
)


plt.figure(figsize=(12, 4))
plt.subplot(131)
plt.plot(T[::15], U_R1)
plt.subplot(132)
plt.plot(T[::15], U_R2)
plt.subplot(133)
plt.plot(T[::15], U_R3)



