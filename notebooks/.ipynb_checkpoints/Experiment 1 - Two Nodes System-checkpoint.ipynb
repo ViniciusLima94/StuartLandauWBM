{
 "cells": [
  {
   "cell_type": "markdown",
   "id": "26abf608-db7f-4a24-af4d-ba033e6b1a68",
   "metadata": {},
   "source": [
    "### Experiment 1\n",
    "\n",
    "Two nodes system. In this experiment two nodes are connected (feedforward), and in each trial a stimulus of different amplitude is applied to phase and amplitude in the node sending the connection.\n",
    "\n",
    "Here we can measure the unique information between the amplitude products and stimuli as well as phase and stimuli (either on the time or time-frequency domain), as a function of a and beta. In the heterogeneous case, instead of using a as a control parameter we might use the difference between this parameter in the sender vs. the receiver node. The same can be done if the nodes have distinct oscillating frequencies."
   ]
  },
  {
   "cell_type": "code",
   "execution_count": 1,
   "id": "d28e21e8-0777-459b-a5d1-0ddb313a67b9",
   "metadata": {},
   "outputs": [],
   "source": [
    "import sys\n",
    "\n",
    "sys.path.insert(1, \"/home/vinicius/Documentos/StuartLandauWBM/\")"
   ]
  },
  {
   "cell_type": "code",
   "execution_count": 2,
   "id": "3a2ad7ce-8026-4708-aa21-9076884e10b2",
   "metadata": {},
   "outputs": [
    {
     "name": "stderr",
     "output_type": "stream",
     "text": [
      "/home/vinicius/anaconda3/envs/test_env/lib/python3.11/site-packages/tqdm/auto.py:21: TqdmWarning: IProgress not found. Please update jupyter and ipywidgets. See https://ipywidgets.readthedocs.io/en/stable/user_install.html\n",
      "  from .autonotebook import tqdm as notebook_tqdm\n"
     ]
    }
   ],
   "source": [
    "import jax\n",
    "import jax.numpy as jnp\n",
    "import matplotlib.pyplot as plt\n",
    "import numpy as np\n",
    "import scipy\n",
    "import xarray as xr\n",
    "from frites.core import copnorm_nd, gccmi_nd_ccc, gcmi_1d_cc, gcmi_nd_cc\n",
    "from hoi.core import get_mi\n",
    "from plot import circular_hist\n",
    "from tqdm import tqdm\n",
    "\n",
    "from src.models import simulate, simulate_delayed"
   ]
  },
  {
   "cell_type": "code",
   "execution_count": 3,
   "id": "3e1a5bcd-1ea2-41f0-bd21-46236feb8b97",
   "metadata": {},
   "outputs": [],
   "source": [
    "jax.config.update(\"jax_enable_x64\", True)\n",
    "jax.config.update(\"jax_platform_name\", \"cpu\")"
   ]
  },
  {
   "cell_type": "code",
   "execution_count": 4,
   "id": "65de7df1-575e-42ea-9e8f-e0b2477286c6",
   "metadata": {},
   "outputs": [],
   "source": [
    "def shuffle_along_axis(a, axis):\n",
    "    idx = np.random.rand(*a.shape).argsort(axis=axis)\n",
    "    return np.take_along_axis(a, idx, axis=axis)\n",
    "\n",
    "\n",
    "def return_unique_terms(data, stim, shuffle=False):\n",
    "\n",
    "    x = data.sel(roi=\"x\") * np.conj(data.sel(roi=\"y\"))\n",
    "\n",
    "    if shuffle:\n",
    "        x = shuffle_along_axis(x.data, 0)\n",
    "\n",
    "    R1 = np.asarray((x * np.conj(x)).real)\n",
    "    R2 = np.unwrap(np.angle(x))\n",
    "\n",
    "    # Stims across trials\n",
    "    stim = np.expand_dims(stim, axis=(0, 1))\n",
    "    stim = np.tile(stim, (data.sizes[\"times\"], 1)).squeeze().T\n",
    "\n",
    "    I_S_12 = gccmi_nd_ccc(R1, R2, stim, traxis=0)\n",
    "    I_S_1 = gcmi_nd_cc(stim, R1, traxis=0)\n",
    "    I_S_2 = gcmi_nd_cc(stim, R2, traxis=0)\n",
    "    R_12 = np.minimum(I_S_1, I_S_2)\n",
    "\n",
    "    if shuffle:\n",
    "        return np.maximum(I_S_1, I_S_2)\n",
    "    return I_S_1 - R_12, I_S_2 - R_12"
   ]
  },
  {
   "cell_type": "markdown",
   "id": "a0ecc56b-03dd-4659-b9da-86317c9c75b4",
   "metadata": {},
   "source": [
    "#### Simulation (no-delays) "
   ]
  },
  {
   "cell_type": "code",
   "execution_count": 5,
   "id": "3e8352eb-7540-4026-a32f-0d9b9e024f3e",
   "metadata": {},
   "outputs": [],
   "source": [
    "ntrials = 500\n",
    "fsamp = 1 / 1e-4\n",
    "\n",
    "time = np.arange(-1, 3, 1 / fsamp)\n",
    "beta = 1e-4\n",
    "Npoints = len(time)\n",
    "decim = 15\n",
    "\n",
    "C = np.array([[0, 1], [0, 0]]).T\n",
    "\n",
    "f = 40\n",
    "\n",
    "g = 10"
   ]
  },
  {
   "cell_type": "code",
   "execution_count": 6,
   "id": "f76e0cd2-d807-44d8-a074-b1f0570c5eda",
   "metadata": {},
   "outputs": [],
   "source": [
    "simulate_jax = jax.vmap(\n",
    "    simulate,\n",
    "    in_axes=(None, None, None, None, None, None, None, None, 0, 0, 0, None, None, None),\n",
    ")"
   ]
  },
  {
   "cell_type": "code",
   "execution_count": 7,
   "id": "f18a3833-1b53-4f30-ae96-308a97af0b4f",
   "metadata": {},
   "outputs": [],
   "source": [
    "a = jnp.array([-5, -5])\n",
    "f = jnp.array([40, 40])"
   ]
  },
  {
   "cell_type": "code",
   "execution_count": 8,
   "id": "57c8b711-89b6-454e-8134-04d47e243b97",
   "metadata": {},
   "outputs": [],
   "source": [
    "Iext = np.zeros((2, Npoints))\n",
    "Iext[:1, (time >= 0) & (time <= 0.2)] = 1\n",
    "Amplitudes = np.linspace(0, 1, ntrials)\n",
    "CS = Amplitudes[..., None, None] * Iext\n",
    "seeds = np.random.randint(0, 10000, ntrials)\n",
    "\n",
    "# Stimulus to amplitude\n",
    "\n",
    "data_amp = np.stack(\n",
    "    simulate_jax(\n",
    "        C,\n",
    "        g,\n",
    "        g,\n",
    "        f,\n",
    "        a,\n",
    "        fsamp,\n",
    "        beta,\n",
    "        Npoints,\n",
    "        CS * 1e-3,\n",
    "        CS * 0,\n",
    "        seeds,\n",
    "        \"hopf\",\n",
    "        \"cpu\",\n",
    "        decim,\n",
    "    )\n",
    ")\n",
    "data_amp = data_amp.squeeze()\n",
    "\n",
    "# Stimulus to phase\n",
    "data_phase = np.stack(\n",
    "    simulate_jax(\n",
    "        C,\n",
    "        g,\n",
    "        g,\n",
    "        f,\n",
    "        a,\n",
    "        fsamp,\n",
    "        beta,\n",
    "        Npoints,\n",
    "        CS * 0,\n",
    "        CS * np.pi * 60,\n",
    "        seeds,\n",
    "        \"hopf\",\n",
    "        \"cpu\",\n",
    "        decim,\n",
    "    )\n",
    ")\n",
    "data_phase = data_phase.squeeze()\n",
    "\n",
    "# Stimulus to amplitude and phase\n",
    "\n",
    "data_both = np.stack(\n",
    "    simulate_jax(\n",
    "        C,\n",
    "        g,\n",
    "        g,\n",
    "        f,\n",
    "        a,\n",
    "        fsamp,\n",
    "        beta,\n",
    "        Npoints,\n",
    "        CS * 1e-3,\n",
    "        CS * np.pi * 60,\n",
    "        seeds,\n",
    "        \"hopf\",\n",
    "        \"cpu\",\n",
    "        decim,\n",
    "    )\n",
    ")\n",
    "data_both = data_both.squeeze()"
   ]
  },
  {
   "cell_type": "code",
   "execution_count": 9,
   "id": "650ce361-33ae-4db2-9d88-c84957e5d770",
   "metadata": {},
   "outputs": [],
   "source": [
    "data_amp = xr.DataArray(\n",
    "    data_amp,\n",
    "    dims=(\"trials\", \"roi\", \"times\"),\n",
    "    coords=(Amplitudes, [\"x\", \"y\"], time[::decim]),\n",
    ")\n",
    "\n",
    "data_phase = xr.DataArray(\n",
    "    data_phase,\n",
    "    dims=(\"trials\", \"roi\", \"times\"),\n",
    "    coords=(Amplitudes, [\"x\", \"y\"], time[::decim]),\n",
    ")\n",
    "\n",
    "data_both = xr.DataArray(\n",
    "    data_both,\n",
    "    dims=(\"trials\", \"roi\", \"times\"),\n",
    "    coords=(Amplitudes, [\"x\", \"y\"], time[::decim]),\n",
    ")"
   ]
  },
  {
   "cell_type": "code",
   "execution_count": 10,
   "id": "b4558530-67e6-443d-8ae6-c3894be8090b",
   "metadata": {},
   "outputs": [],
   "source": [
    "_topi = lambda x: (x + np.pi) % (2 * np.pi) - np.pi"
   ]
  },
  {
   "cell_type": "code",
   "execution_count": null,
   "id": "a795e9cc-9657-4f6f-97a0-8329782b60c1",
   "metadata": {},
   "outputs": [
    {
     "name": "stderr",
     "output_type": "stream",
     "text": [
      "100%|████████████████████████████████████████████████████████| 50/50 [00:32<00:00,  1.55it/s]\n"
     ]
    }
   ],
   "source": [
    "uamp1, uphase1 = return_unique_terms(data_amp, Amplitudes)\n",
    "uamp2, uphase2 = return_unique_terms(data_phase, Amplitudes)\n",
    "uamp3, uphase3 = return_unique_terms(data_both, Amplitudes)\n",
    "\n",
    "__iter = tqdm(range(50))\n",
    "uc1 = [return_unique_terms(data_amp, Amplitudes, True) for i in __iter]\n",
    "uc2 = [return_unique_terms(data_phase, Amplitudes, True) for i in __iter]\n",
    "uc3 = [return_unique_terms(data_both, Amplitudes, True) for i in __iter]"
   ]
  },
  {
   "cell_type": "code",
   "execution_count": null,
   "id": "9f5f541b-9d92-4949-94e4-a8153d0c0f5d",
   "metadata": {},
   "outputs": [],
   "source": [
    "plt.figure(figsize=(10, 3))\n",
    "ax = plt.subplot(131)\n",
    "\n",
    "plt.plot(time[::decim], uamp1)\n",
    "plt.plot(time[::decim], uphase1)\n",
    "plt.fill_between(\n",
    "    time[::decim],\n",
    "    np.quantile(uc1, 0.05, axis=0),\n",
    "    np.quantile(uc1, 0.95, axis=0),\n",
    "    color=\"lightgray\",\n",
    "    alpha=0.5,\n",
    ")\n",
    "[ax.spines[key].set_visible(False) for key in [\"top\", \"right\"]]\n",
    "plt.ylabel(\"[bits]\", fontsize=12)\n",
    "plt.xlabel(\"time [s]\", fontsize=12)\n",
    "plt.title(\"amplitude only\", fontsize=12)\n",
    "\n",
    "ax = plt.subplot(132)\n",
    "\n",
    "plt.plot(time[::decim], uamp2)\n",
    "plt.plot(time[::decim], uphase2)\n",
    "plt.fill_between(\n",
    "    time[::decim],\n",
    "    np.quantile(uc2, 0.05, axis=0),\n",
    "    np.quantile(uc2, 0.95, axis=0),\n",
    "    color=\"lightgray\",\n",
    "    alpha=0.5,\n",
    ")\n",
    "[ax.spines[key].set_visible(False) for key in [\"top\", \"right\"]]\n",
    "plt.ylabel(\"[bits]\", fontsize=12)\n",
    "plt.xlabel(\"time [s]\", fontsize=12)\n",
    "plt.title(\"phase only\", fontsize=12)\n",
    "\n",
    "ax = plt.subplot(133)\n",
    "\n",
    "plt.plot(time[::decim], uamp3)\n",
    "plt.plot(time[::decim], uphase3)\n",
    "plt.fill_between(\n",
    "    time[::decim],\n",
    "    np.quantile(uc3, 0.05, axis=0),\n",
    "    np.quantile(uc3, 0.95, axis=0),\n",
    "    color=\"lightgray\",\n",
    "    alpha=0.5,\n",
    ")\n",
    "plt.legend(\n",
    "    [\"{Amplitude}\", \"{Phase}\"],\n",
    "    fontsize=12,\n",
    "    frameon=False,\n",
    ")\n",
    "[ax.spines[key].set_visible(False) for key in [\"top\", \"right\"]]\n",
    "plt.ylabel(\"[bits]\", fontsize=12)\n",
    "plt.xlabel(\"time [s]\", fontsize=12)\n",
    "plt.title(\"amplitude + phase\", fontsize=12)\n",
    "\n",
    "\n",
    "plt.tight_layout()"
   ]
  },
  {
   "cell_type": "code",
   "execution_count": null,
   "id": "0e47b3f4-027e-4f24-ae53-91f743aba304",
   "metadata": {},
   "outputs": [],
   "source": [
    "plt.figure(figsize=(3, 3), dpi=300)\n",
    "\n",
    "data = [data_amp, data_phase, data_both]\n",
    "ax = plt.subplot(111)\n",
    "for pos, data_ in enumerate(data):\n",
    "\n",
    "    r = np.abs(data_)\n",
    "\n",
    "    r = (r - r.mean(\"times\")) / r.std(\"times\")\n",
    "\n",
    "    z = np.angle(data_[:, 0] * np.conj(data_[:, 1]))\n",
    "    theta = xr.DataArray(\n",
    "        z, dims=(\"trials\", \"times\"), coords={\"times\": data_.times.values}\n",
    "    ).mean(\"trials\")\n",
    "\n",
    "    (r[:, 0] * r[:, 1]).sel(times=slice(-0.5, 3)).mean(\"trials\").plot()\n",
    "    # ax2 = ax.twinx()\n",
    "    #(theta).sel(times=slice(-.5, 3)).plot()\n",
    "    plt.ylabel(r\"$\\langle\\rho \\rangle$\", fontsize=12)\n",
    "    plt.xlabel(\"Time [s]\", fontsize=12)\n",
    "[ax.spines[key].set_visible(False) for key in [\"top\", \"right\"]]\n",
    "plt.legend([\"amplitude\", \"phase\", \"Both\"], frameon=False)"
   ]
  },
  {
   "cell_type": "code",
   "execution_count": null,
   "id": "a337e6ca-578e-4c25-a6f7-d546d02ad4c1",
   "metadata": {},
   "outputs": [],
   "source": [
    "theta"
   ]
  },
  {
   "cell_type": "code",
   "execution_count": null,
   "id": "e7829854-d732-4485-a68c-cc9cb7a64b86",
   "metadata": {},
   "outputs": [],
   "source": [
    "plt.figure(figsize=(10, 3), dpi=300)\n",
    "\n",
    "data = [data_amp, data_phase, data_both]\n",
    "\n",
    "for pos, data_ in enumerate(data):\n",
    "    ax = plt.subplot(1, 3, pos + 1, projection=\"polar\")\n",
    "    z = np.unwrap(np.angle(data_[:, 0] * np.conj(data_[:, 1])))\n",
    "    theta = xr.DataArray(\n",
    "        z, dims=(\"trials\", \"times\"), coords={\"times\": data_.times.values}\n",
    "    ).mean(\"trials\")\n",
    "    circular_hist(ax, theta.sel(times=slice(-2, 0)).data, fill=False, bins=30)\n",
    "    circular_hist(ax, theta.sel(times=slice(0, 2)).data, fill=True, bins=30)\n",
    "# [ax.spines[key].set_visible(False) for key in [\"top\", \"right\"]]\n",
    "# plt.legend([\"amplitude\", \"phase\", \"Both\"], frameon=False)\n",
    "plt.tight_layout()"
   ]
  },
  {
   "cell_type": "code",
   "execution_count": null,
   "id": "01eb24da-12c7-4cbe-b05e-054f2d1130ea",
   "metadata": {},
   "outputs": [],
   "source": []
  }
 ],
 "metadata": {
  "kernelspec": {
   "display_name": "Python 3 (ipykernel)",
   "language": "python",
   "name": "python3"
  },
  "language_info": {
   "codemirror_mode": {
    "name": "ipython",
    "version": 3
   },
   "file_extension": ".py",
   "mimetype": "text/x-python",
   "name": "python",
   "nbconvert_exporter": "python",
   "pygments_lexer": "ipython3",
   "version": "3.11.10"
  }
 },
 "nbformat": 4,
 "nbformat_minor": 5
}
