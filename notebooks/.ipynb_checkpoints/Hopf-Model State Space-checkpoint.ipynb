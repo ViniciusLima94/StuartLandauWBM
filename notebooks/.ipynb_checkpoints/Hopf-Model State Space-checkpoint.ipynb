{
 "cells": [
  {
   "cell_type": "code",
   "execution_count": null,
   "id": "6894e702-c00f-4562-84bd-33924d0a5796",
   "metadata": {},
   "outputs": [],
   "source": []
  },
  {
   "cell_type": "code",
   "execution_count": 1,
   "id": "a5fc78eb-d271-4dd5-867e-824a59ddb27d",
   "metadata": {},
   "outputs": [],
   "source": [
    "import sys\n",
    "\n",
    "sys.path.insert(1, \"/home/vinicius/Documentos/StuartLandauWBM/\")"
   ]
  },
  {
   "cell_type": "code",
   "execution_count": 2,
   "id": "a536fd04-3759-471a-b761-a59057c301fd",
   "metadata": {},
   "outputs": [
    {
     "name": "stderr",
     "output_type": "stream",
     "text": [
      "/home/vinicius/anaconda3/envs/test_env/lib/python3.11/site-packages/tqdm/auto.py:21: TqdmWarning: IProgress not found. Please update jupyter and ipywidgets. See https://ipywidgets.readthedocs.io/en/stable/user_install.html\n",
      "  from .autonotebook import tqdm as notebook_tqdm\n"
     ]
    }
   ],
   "source": [
    "import jax\n",
    "import jax.numpy as jnp\n",
    "import matplotlib.pyplot as plt\n",
    "import numpy as np\n",
    "import scipy\n",
    "import xarray as xr\n",
    "from frites.core import copnorm_nd, gccmi_nd_ccc, gcmi_1d_cc, gcmi_nd_cc\n",
    "from hoi.core import get_mi\n",
    "from plot import circular_hist\n",
    "from tqdm import tqdm\n",
    "\n",
    "from src.models import simulate_hopf"
   ]
  },
  {
   "cell_type": "code",
   "execution_count": 3,
   "id": "304ee2cb-ceb1-4c1b-8065-f085f1686d7e",
   "metadata": {},
   "outputs": [],
   "source": [
    "jax.config.update(\"jax_enable_x64\", True)\n",
    "jax.config.update(\"jax_platform_name\", \"cpu\")"
   ]
  },
  {
   "cell_type": "markdown",
   "id": "301ce938-7d88-4434-9d02-8a4a82a90e48",
   "metadata": {},
   "source": [
    "####"
   ]
  },
  {
   "cell_type": "code",
   "execution_count": 4,
   "id": "e9fa7a42-a861-4154-b3f0-3f10589e95c7",
   "metadata": {},
   "outputs": [],
   "source": [
    "C = np.array([[0, 1], [0, 0]]).T"
   ]
  },
  {
   "cell_type": "code",
   "execution_count": 5,
   "id": "fbdbeee5-8908-4155-897e-3d25053e5e09",
   "metadata": {},
   "outputs": [],
   "source": [
    "decim = 15\n",
    "fsamp = 1 / 1e-4\n",
    "beta = 1e-4\n",
    "f = 40\n",
    "a = -5"
   ]
  },
  {
   "cell_type": "code",
   "execution_count": 6,
   "id": "774459fe-6f65-47e4-8ca5-ab5a5f58526a",
   "metadata": {
    "scrolled": true
   },
   "outputs": [
    {
     "data": {
      "text/plain": [
       "\u001b[0;31mSignature:\u001b[0m\n",
       "\u001b[0msimulate_hopf\u001b[0m\u001b[0;34m(\u001b[0m\u001b[0;34m\u001b[0m\n",
       "\u001b[0;34m\u001b[0m    \u001b[0mA\u001b[0m\u001b[0;34m:\u001b[0m \u001b[0mnumpy\u001b[0m\u001b[0;34m.\u001b[0m\u001b[0mndarray\u001b[0m\u001b[0;34m,\u001b[0m\u001b[0;34m\u001b[0m\n",
       "\u001b[0;34m\u001b[0m    \u001b[0mg\u001b[0m\u001b[0;34m:\u001b[0m \u001b[0mfloat\u001b[0m\u001b[0;34m,\u001b[0m\u001b[0;34m\u001b[0m\n",
       "\u001b[0;34m\u001b[0m    \u001b[0mf\u001b[0m\u001b[0;34m:\u001b[0m \u001b[0mfloat\u001b[0m\u001b[0;34m,\u001b[0m\u001b[0;34m\u001b[0m\n",
       "\u001b[0;34m\u001b[0m    \u001b[0ma\u001b[0m\u001b[0;34m:\u001b[0m \u001b[0mfloat\u001b[0m\u001b[0;34m,\u001b[0m\u001b[0;34m\u001b[0m\n",
       "\u001b[0;34m\u001b[0m    \u001b[0mfs\u001b[0m\u001b[0;34m:\u001b[0m \u001b[0mfloat\u001b[0m\u001b[0;34m,\u001b[0m\u001b[0;34m\u001b[0m\n",
       "\u001b[0;34m\u001b[0m    \u001b[0meta\u001b[0m\u001b[0;34m:\u001b[0m \u001b[0mfloat\u001b[0m\u001b[0;34m,\u001b[0m\u001b[0;34m\u001b[0m\n",
       "\u001b[0;34m\u001b[0m    \u001b[0mT\u001b[0m\u001b[0;34m:\u001b[0m \u001b[0mfloat\u001b[0m\u001b[0;34m,\u001b[0m\u001b[0;34m\u001b[0m\n",
       "\u001b[0;34m\u001b[0m    \u001b[0mseed\u001b[0m\u001b[0;34m:\u001b[0m \u001b[0mint\u001b[0m \u001b[0;34m=\u001b[0m \u001b[0;36m0\u001b[0m\u001b[0;34m,\u001b[0m\u001b[0;34m\u001b[0m\n",
       "\u001b[0;34m\u001b[0m    \u001b[0mdevice\u001b[0m\u001b[0;34m:\u001b[0m \u001b[0mstr\u001b[0m \u001b[0;34m=\u001b[0m \u001b[0;34m'cpu'\u001b[0m\u001b[0;34m,\u001b[0m\u001b[0;34m\u001b[0m\n",
       "\u001b[0;34m\u001b[0m    \u001b[0mdecim\u001b[0m\u001b[0;34m:\u001b[0m \u001b[0mint\u001b[0m \u001b[0;34m=\u001b[0m \u001b[0;36m1\u001b[0m\u001b[0;34m,\u001b[0m\u001b[0;34m\u001b[0m\n",
       "\u001b[0;34m\u001b[0m\u001b[0;34m)\u001b[0m\u001b[0;34m\u001b[0m\u001b[0;34m\u001b[0m\u001b[0m\n",
       "\u001b[0;31mDocstring:\u001b[0m <no docstring>\n",
       "\u001b[0;31mFile:\u001b[0m      ~/Documentos/StuartLandauWBM/src/models.py\n",
       "\u001b[0;31mType:\u001b[0m      function"
      ]
     },
     "metadata": {},
     "output_type": "display_data"
    }
   ],
   "source": [
    "simulate_hopf?"
   ]
  },
  {
   "cell_type": "code",
   "execution_count": 7,
   "id": "2e1e0f5e-bd88-4bff-8e65-4a5200f473a4",
   "metadata": {},
   "outputs": [],
   "source": [
    "simulate_jax = jax.vmap(\n",
    "    simulate_hopf,\n",
    "    in_axes=(None, 0, None, 0, None, None, None, 0, None, None),\n",
    ")"
   ]
  },
  {
   "cell_type": "code",
   "execution_count": 8,
   "id": "0c6031c2-190a-4248-b755-9fd2bfede323",
   "metadata": {},
   "outputs": [],
   "source": [
    "g = jnp.linspace(0, 5, 20)\n",
    "a = jnp.linspace(-10, 0, 30)"
   ]
  },
  {
   "cell_type": "code",
   "execution_count": 9,
   "id": "84a7f761-07ff-4c9f-ab9d-5286188d3d14",
   "metadata": {},
   "outputs": [],
   "source": [
    "params = jnp.array(jnp.meshgrid(g, a)).T.reshape(-1, 2)"
   ]
  },
  {
   "cell_type": "code",
   "execution_count": 10,
   "id": "c95663b7-6086-4ae3-a73b-338694f8f288",
   "metadata": {},
   "outputs": [
    {
     "name": "stderr",
     "output_type": "stream",
     "text": [
      "100%|██████████████████████████████████████████████████████| 600/600 [05:47<00:00,  1.73it/s]\n"
     ]
    }
   ],
   "source": [
    "time = np.arange(0, 10, 1 / fsamp)\n",
    "Npoints = len(time)\n",
    "seeds = jnp.arange(len(params))\n",
    "dtheta = []\n",
    "amp = []\n",
    "for g, a in tqdm(params):\n",
    "\n",
    "    x = simulate_hopf(\n",
    "        C,\n",
    "        1,\n",
    "        f,\n",
    "        float(a),\n",
    "        fsamp,\n",
    "        float(g),\n",
    "        Npoints,\n",
    "        0,\n",
    "        \"cpu\",\n",
    "        decim,\n",
    "    )[..., 2000:]\n",
    "\n",
    "    dtheta += [jnp.unwrap(jnp.angle(x[0] * jnp.conj(x[1]))).std()]\n",
    "    amp += [jnp.abs(x[0] * jnp.conj(x[1])).std()]"
   ]
  },
  {
   "cell_type": "code",
   "execution_count": 13,
   "id": "ab802eb7-968d-4b88-90d5-ba3b2a6f2dfe",
   "metadata": {},
   "outputs": [
    {
     "data": {
      "text/plain": [
       "<matplotlib.colorbar.Colorbar at 0x7f1154be8250>"
      ]
     },
     "execution_count": 13,
     "metadata": {},
     "output_type": "execute_result"
    },
    {
     "data": {
      "image/png": "[encoded data removed]",
      "text/plain": [
       "<Figure size 1400x600 with 4 Axes>"
      ]
     },
     "metadata": {},
     "output_type": "display_data"
    }
   ],
   "source": [
    "plt.figure(figsize=(14, 6))\n",
    "plt.subplot(121)\n",
    "plt.imshow(\n",
    "    jnp.stack(dtheta).reshape(20, 30),\n",
    "    aspect=\"auto\",\n",
    "    cmap=\"jet\",\n",
    "    origin=\"lower\",\n",
    "    vmin=0,\n",
    "    extent=[-10, 0, 0, 5],\n",
    ")\n",
    "plt.colorbar()\n",
    "\n",
    "plt.subplot(122)\n",
    "\n",
    "plt.imshow(\n",
    "    jnp.stack(amp).reshape(20, 30),\n",
    "    aspect=\"auto\",\n",
    "    cmap=\"jet\",\n",
    "    origin=\"lower\",\n",
    "    vmin=0,\n",
    "    extent=[-10, 0, 0, 5],\n",
    ")\n",
    "plt.colorbar()"
   ]
  },
  {
   "cell_type": "code",
   "execution_count": null,
   "id": "9bb94e4f-fee0-4830-be85-2f687166dc7b",
   "metadata": {},
   "outputs": [],
   "source": [
    "    x = simulate_hopf(\n",
    "        C,\n",
    "        1,\n",
    "        f,\n",
    "        float(a),\n",
    "        fsamp,\n",
    "        float(g),\n",
    "        Npoints,\n",
    "        0,\n",
    "        \"cpu\",\n",
    "        decim,\n",
    "    )[..., 2000:]"
   ]
  },
  {
   "cell_type": "code",
   "execution_count": null,
   "id": "1b01880b-e547-4642-b792-7fd3b9dac3cd",
   "metadata": {},
   "outputs": [],
   "source": [
    "x = simulate_hopf(\n",
    "    C,\n",
    "    1,\n",
    "    f,\n",
    "    float(a),\n",
    "    fsamp,\n",
    "    float(g),\n",
    "    Npoints,\n",
    "    0,\n",
    "    \"cpu\",\n",
    "    decim,\n",
    ")[..., 2000:]"
   ]
  },
  {
   "cell_type": "code",
   "execution_count": null,
   "id": "8d90271c-1860-4074-b29c-afdfbb3a47cf",
   "metadata": {},
   "outputs": [],
   "source": [
    "plt.plot(x[0].real)\n",
    "plt.plot(x[1].real)"
   ]
  },
  {
   "cell_type": "code",
   "execution_count": null,
   "id": "92cd676f-57d1-4666-8917-2fc3d9fe8d84",
   "metadata": {},
   "outputs": [],
   "source": []
  }
 ],
 "metadata": {
  "kernelspec": {
   "display_name": "Python 3 (ipykernel)",
   "language": "python",
   "name": "python3"
  },
  "language_info": {
   "codemirror_mode": {
    "name": "ipython",
    "version": 3
   },
   "file_extension": ".py",
   "mimetype": "text/x-python",
   "name": "python",
   "nbconvert_exporter": "python",
   "pygments_lexer": "ipython3",
   "version": "3.11.10"
  }
 },
 "nbformat": 4,
 "nbformat_minor": 5
}
