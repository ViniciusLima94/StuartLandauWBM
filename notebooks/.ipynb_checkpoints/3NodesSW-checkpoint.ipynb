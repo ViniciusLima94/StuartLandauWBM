{
 "cells": [
  {
   "cell_type": "markdown",
   "id": "e80303cf-6b82-4959-9c9a-85ae9a423551",
   "metadata": {},
   "source": [
    "### Three nodes system"
   ]
  },
  {
   "cell_type": "code",
   "execution_count": 1,
   "id": "650bb706-3fae-4b38-8b20-06c02801369c",
   "metadata": {},
   "outputs": [],
   "source": [
    "import sys\n",
    "\n",
    "sys.path.insert(1, \"/home/vinicius/Documentos/StuartLandauWBM/\")"
   ]
  },
  {
   "cell_type": "code",
   "execution_count": 2,
   "id": "be7415f6-6b72-458c-b183-91bfdd9e88b8",
   "metadata": {},
   "outputs": [
    {
     "name": "stderr",
     "output_type": "stream",
     "text": [
      "/home/vinicius/anaconda3/envs/test_env/lib/python3.11/site-packages/tqdm/auto.py:21: TqdmWarning: IProgress not found. Please update jupyter and ipywidgets. See https://ipywidgets.readthedocs.io/en/stable/user_install.html\n",
      "  from .autonotebook import tqdm as notebook_tqdm\n"
     ]
    }
   ],
   "source": [
    "import jax\n",
    "import matplotlib.pyplot as plt\n",
    "import numpy as np\n",
    "import xarray as xr\n",
    "from frites.core import copnorm_nd, gccmi_nd_ccc, gcmi_1d_cc, gcmi_nd_cc\n",
    "from hoi.core import get_mi\n",
    "from mne.time_frequency.tfr import tfr_array_morlet\n",
    "from tqdm import tqdm\n",
    "\n",
    "from src.models import simulate, simulate_delayed"
   ]
  },
  {
   "cell_type": "code",
   "execution_count": 3,
   "id": "f3bad224-a8b3-4f2c-8bf0-4a3f63e62d01",
   "metadata": {},
   "outputs": [],
   "source": [
    "jax.config.update(\"jax_enable_x64\", True)\n",
    "jax.config.update(\"jax_platform_name\", \"cpu\")"
   ]
  },
  {
   "cell_type": "markdown",
   "id": "b6adfe37-3b4a-4ca0-a696-58a00189c401",
   "metadata": {},
   "source": [
    "#### Simulation parameters"
   ]
  },
  {
   "cell_type": "code",
   "execution_count": 4,
   "id": "c8eb50db-c20b-433b-a22f-1256568df488",
   "metadata": {},
   "outputs": [],
   "source": [
    "ntrials = 500\n",
    "fsamp = 1 / 1e-4\n",
    "\n",
    "time = np.arange(-2, 5, 1 / fsamp)\n",
    "beta = 2e-4\n",
    "Npoints = len(time)\n",
    "decim = 15\n",
    "\n",
    "C = np.array([[0, 1, 0], [0, 0, 1], [0, 0, 0]]).T\n",
    "D = np.array([[0, 0, 10], [0, 0, 10], [0, 0, 0]]).T * (1 / fsamp)\n",
    "\n",
    "f = 40\n",
    "\n",
    "Iext = np.zeros((3, Npoints))\n",
    "Iext[:2, (time >= 0) & (time <= 0.2)] = 1e-2\n",
    "Amplitudes = np.linspace(0, 1e-1, ntrials)\n",
    "CS = Amplitudes[..., None, None] * Iext\n",
    "\n",
    "seeds = np.random.randint(0, 10000, ntrials)\n",
    "g = 5  # np.linspace(0.01, 10, ntrials)\n",
    "\n",
    "simulate_jax = jax.vmap(\n",
    "    simulate,\n",
    "    in_axes=(None, None, None, None, None, None, None, 0, 0, None, None, None),\n",
    ")\n",
    "\n",
    "\n",
    "simulate_jax_delayed = jax.vmap(\n",
    "    simulate_delayed,\n",
    "    in_axes=(None, None, None, None, None, None, None, None, 0, 0, None, None, None),\n",
    ")\n",
    "\n",
    "\"\"\"\n",
    "data = []\n",
    "for n in tqdm(range(ntrials)):\n",
    "    temp = simulate_delayed(\n",
    "        C,\n",
    "        D,\n",
    "        g[n],\n",
    "        f,\n",
    "        -5,\n",
    "        fsamp,\n",
    "        beta,\n",
    "        Npoints,\n",
    "        None,\n",
    "        seeds[n],\n",
    "        \"cpu\",\n",
    "        decim,\n",
    "        \"both\",\n",
    "    )\n",
    "    data += [temp]\n",
    "\n",
    "data = np.stack(data)\n",
    "data = data.squeeze().transpose(0, 2, 1)\n",
    "# Output the shapes of data and datah for verification\n",
    "data.shape\n",
    "\"\"\";"
   ]
  },
  {
   "cell_type": "code",
   "execution_count": 5,
   "id": "c1586810-5f89-4c5f-91e5-f6e7758fbcb6",
   "metadata": {},
   "outputs": [
    {
     "data": {
      "text/plain": [
       "(500, 3, 4667)"
      ]
     },
     "execution_count": 5,
     "metadata": {},
     "output_type": "execute_result"
    }
   ],
   "source": [
    "data = np.stack(\n",
    "    simulate_jax(C, g, f, -5, fsamp, beta, Npoints, CS, seeds, \"cpu\", decim, \"phase\")\n",
    ")\n",
    "data = data.squeeze().transpose(0, 2, 1)\n",
    "# Output the shapes of data and datah for verification\n",
    "data.shape"
   ]
  },
  {
   "cell_type": "code",
   "execution_count": null,
   "id": "e1461831-5a8f-4455-8ff2-25f0c5da3672",
   "metadata": {},
   "outputs": [],
   "source": [
    "data = np.stack(\n",
    "    simulate_jax_delayed(\n",
    "        C,\n",
    "        D,\n",
    "        g,\n",
    "        np.array([20, 20, 20]),\n",
    "        np.array([-5, -5, -5]),\n",
    "        fsamp,\n",
    "        beta,\n",
    "        Npoints,\n",
    "        CS,\n",
    "        seeds,\n",
    "        \"cpu\",\n",
    "        decim,\n",
    "        \"both\",\n",
    "    )\n",
    ")\n",
    "data = data.squeeze().transpose(0, 2, 1)\n",
    "# Output the shapes of data and datah for verification\n",
    "data.shape"
   ]
  },
  {
   "cell_type": "code",
   "execution_count": null,
   "id": "d2b0747e-cd04-4f38-8cc4-f3b0dd5ccad7",
   "metadata": {},
   "outputs": [],
   "source": [
    "time[::decim].shape"
   ]
  },
  {
   "cell_type": "markdown",
   "id": "b4bcf470-f434-4ebb-879d-af5c3f569aa0",
   "metadata": {},
   "source": [
    "#### Convert to xarray"
   ]
  },
  {
   "cell_type": "code",
   "execution_count": null,
   "id": "c5e47269-a756-43b6-b779-e648b2ec5e05",
   "metadata": {},
   "outputs": [],
   "source": [
    "data = xr.DataArray(\n",
    "    data,\n",
    "    dims=(\"trials\", \"roi\", \"times\"),\n",
    "    coords=(Amplitudes, [\"x\", \"y\", \"z\"], time[::decim]),\n",
    ")"
   ]
  },
  {
   "cell_type": "code",
   "execution_count": null,
   "id": "8e78c26a-3dbd-481a-bece-d8613f19ca7a",
   "metadata": {},
   "outputs": [],
   "source": [
    "plt.figure(figsize=(15, 10))\n",
    "z_data = (data - data.mean(\"times\")) / data.std(\"times\")\n",
    "plt.subplot(1, 2, 1)\n",
    "for i in range(3):\n",
    "    plt.plot(z_data[-1].times, z_data[0].values[i].real + (i * 3))\n",
    "plt.subplot(1, 2, 2)\n",
    "for i in range(3):\n",
    "    plt.plot(z_data[-1].times, z_data[-1].values[i].real + (i * 3))"
   ]
  },
  {
   "cell_type": "markdown",
   "id": "0b8fdb5c-6625-45bb-abfb-69d3f1b2e8b3",
   "metadata": {},
   "source": [
    "## Decompose in time-frequency domain"
   ]
  },
  {
   "cell_type": "code",
   "execution_count": null,
   "id": "6aaf07f2-a76b-4c42-a64f-ef54c64cab19",
   "metadata": {},
   "outputs": [],
   "source": [
    "data = data.sel(times=slice(-0.2, 3))\n",
    "\n",
    "\n",
    "freqs = np.linspace(0.3, 80, 30)\n",
    "\n",
    "S = tfr_array_morlet(\n",
    "    data.values.real,\n",
    "    fsamp / 15,\n",
    "    freqs,\n",
    "    freqs / 7,\n",
    "    output=\"complex\",\n",
    "    n_jobs=1,\n",
    "    zero_mean=False,\n",
    "    verbose=True,\n",
    ")\n",
    "\n",
    "S = xr.DataArray(\n",
    "    S,\n",
    "    dims=(\"trials\", \"roi\", \"freqs\", \"times\"),\n",
    "    coords={\"freqs\": freqs, \"times\": data.times.values, \"roi\": data.roi.values},\n",
    ")"
   ]
  },
  {
   "cell_type": "markdown",
   "id": "d2fcb835-7cab-4adf-9a55-0e66c1ad3327",
   "metadata": {},
   "source": [
    "#### MI in time-frequency domain"
   ]
  },
  {
   "cell_type": "code",
   "execution_count": null,
   "id": "463d7ef3-25dd-4699-b502-ddb8dd61d621",
   "metadata": {},
   "outputs": [],
   "source": [
    "def _mi(S, roi_x, roi_y, stim):\n",
    "\n",
    "    # Define the function to compute MI using HOI and JAX\n",
    "    mi_fcn = get_mi(\"gc\")\n",
    "\n",
    "    # vectorize the function to first and second dimension\n",
    "    gcmi = jax.vmap(jax.vmap(mi_fcn, in_axes=0), in_axes=0)\n",
    "\n",
    "    times, freqs = S.times.values, S.freqs.values\n",
    "    x = S.sel(roi=[roi_x]).data.squeeze()\n",
    "    y = S.sel(roi=[roi_y]).data.squeeze()\n",
    "\n",
    "    edge = x * np.conj(y)\n",
    "    edge_r, edge_i = np.real(edge), np.imag(edge)\n",
    "\n",
    "    E1 = np.stack((edge_r, edge_i), axis=1)\n",
    "    E1 = np.moveaxis(E1, [0, 1], [-1, -2])\n",
    "\n",
    "    # Stims across trials\n",
    "    stim = data.trials.values\n",
    "    stim = np.expand_dims(stim, axis=(0, 1))\n",
    "    stim = np.tile(stim, (len(freqs), data.sizes[\"times\"], 1, 1))\n",
    "\n",
    "    E1 = copnorm_nd(E1, axis=-1)\n",
    "    stim = copnorm_nd(stim, axis=-1)\n",
    "\n",
    "    mi = gcmi(E1, stim).T\n",
    "\n",
    "    return xr.DataArray(mi, dims=(\"times\", \"freqs\"), coords=(times, freqs))\n",
    "\n",
    "\n",
    "pairs = np.array([[0, 1], [0, 2], [1, 2]])\n",
    "\n",
    "rois = S.roi.values\n",
    "stim = data.trials.values\n",
    "\n",
    "out = []\n",
    "for i, j in tqdm(pairs):\n",
    "    out += [_mi(S, rois[i], rois[j], stim)]"
   ]
  },
  {
   "cell_type": "code",
   "execution_count": null,
   "id": "84ee900d-21ae-454e-9930-77029f3d51d0",
   "metadata": {},
   "outputs": [],
   "source": [
    "plt.figure(figsize=(40, 40))\n",
    "\n",
    "for pos, _out in enumerate(out):\n",
    "    plt.subplot(6, 5, pos + 1)\n",
    "    i, j = pairs[pos]\n",
    "    _out.T.plot(\n",
    "        cmap=\"turbo\",\n",
    "        vmin=0,\n",
    "    )\n",
    "    plt.title(f\"{rois[i]}-{rois[j]}\")\n",
    "    plt.xticks(fontsize=9)\n",
    "    plt.yticks(fontsize=9)\n",
    "    plt.ylabel(\"freq [Hz]\", fontsize=9)\n",
    "    plt.xlabel(\"time [s]\", fontsize=9)"
   ]
  },
  {
   "cell_type": "code",
   "execution_count": null,
   "id": "a3d317e8-f34e-46c9-89fc-6fa1413ea0e4",
   "metadata": {},
   "outputs": [],
   "source": [
    "def WrapToPi(x):\n",
    "    xwrap = x % 2 * np.pi\n",
    "    mask = np.abs(xwrap) > np.pi\n",
    "    xwrap[mask] -= 2 * np.pi * np.sign(xwrap[mask])\n",
    "    return xwrap"
   ]
  },
  {
   "cell_type": "code",
   "execution_count": null,
   "id": "dae39a20-24ab-4831-a36a-96e5f50e4817",
   "metadata": {},
   "outputs": [],
   "source": [
    "x = data.sel(roi=\"x\") * np.conj(data.sel(roi=\"z\"))"
   ]
  },
  {
   "cell_type": "code",
   "execution_count": null,
   "id": "2c60df74-84a4-4cbe-a717-7f84dab4110b",
   "metadata": {},
   "outputs": [],
   "source": [
    "R1 = (x * np.conj(x)).data.real\n",
    "R2 = np.unwrap(np.angle(x))"
   ]
  },
  {
   "cell_type": "code",
   "execution_count": null,
   "id": "179996e6-d97e-4324-9abf-a7f24b6e8aba",
   "metadata": {},
   "outputs": [],
   "source": [
    "# Stims across trials\n",
    "stim = np.expand_dims(Amplitudes, axis=(0, 1))\n",
    "stim = np.tile(stim, (data.sizes[\"times\"], 1)).squeeze().T"
   ]
  },
  {
   "cell_type": "code",
   "execution_count": null,
   "id": "d40763cb-8845-48dd-8606-ce513bc5d214",
   "metadata": {},
   "outputs": [],
   "source": [
    "stim.shape"
   ]
  },
  {
   "cell_type": "code",
   "execution_count": null,
   "id": "69b814ae-44e1-4ef1-b3cc-1769149d6512",
   "metadata": {},
   "outputs": [],
   "source": [
    "mi_fcn = get_mi(\"gc\")"
   ]
  },
  {
   "cell_type": "code",
   "execution_count": null,
   "id": "43d421c5-d15c-4692-a106-539bf4e1d476",
   "metadata": {},
   "outputs": [],
   "source": [
    "ax = plt.subplot(111)\n",
    "I_S_12 = gccmi_nd_ccc(R1, R2, stim, traxis=0)\n",
    "I_S_1 = gcmi_nd_cc(stim, R1, traxis=0)\n",
    "I_S_2 = gcmi_nd_cc(stim, R2, traxis=0)\n",
    "R_12 = np.minimum(I_S_1, I_S_2)\n",
    "\n",
    "# plt.plot(S.times.values, I_S_12)\n",
    "plt.plot(S.times.values, I_S_1 - R_12)\n",
    "plt.plot(S.times.values, I_S_2 - R_12)\n",
    "plt.legend(\n",
    "    [\"Unique Amplitude\", \"Unique Phase\"],\n",
    "    fontsize=12,\n",
    "    frameon=False,\n",
    ")\n",
    "[ax.spines[key].set_visible(False) for key in [\"top\", \"right\"]]\n",
    "plt.ylabel(\"[bits]\", fontsize=12)\n",
    "plt.xlabel(\"time [s]\", fontsize=12)"
   ]
  },
  {
   "cell_type": "code",
   "execution_count": null,
   "id": "f3f12775-4079-4ccd-a741-fba519aed652",
   "metadata": {},
   "outputs": [],
   "source": []
  }
 ],
 "metadata": {
  "kernelspec": {
   "display_name": "Python 3 (ipykernel)",
   "language": "python",
   "name": "python3"
  },
  "language_info": {
   "codemirror_mode": {
    "name": "ipython",
    "version": 3
   },
   "file_extension": ".py",
   "mimetype": "text/x-python",
   "name": "python",
   "nbconvert_exporter": "python",
   "pygments_lexer": "ipython3",
   "version": "3.11.10"
  }
 },
 "nbformat": 4,
 "nbformat_minor": 5
}
